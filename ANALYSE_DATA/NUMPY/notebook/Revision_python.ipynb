{
 "cells": [
  {
   "cell_type": "code",
   "execution_count": 1,
   "metadata": {},
   "outputs": [],
   "source": [
    "def show():\n",
    "    return \"Bonjour tout le monde !\""
   ]
  },
  {
   "cell_type": "code",
   "execution_count": 2,
   "metadata": {},
   "outputs": [
    {
     "data": {
      "text/plain": [
       "'Bonjour tout le monde !'"
      ]
     },
     "execution_count": 2,
     "metadata": {},
     "output_type": "execute_result"
    }
   ],
   "source": [
    "show()"
   ]
  },
  {
   "cell_type": "code",
   "execution_count": 4,
   "metadata": {},
   "outputs": [],
   "source": [
    "import this"
   ]
  },
  {
   "cell_type": "code",
   "execution_count": 16,
   "metadata": {},
   "outputs": [
    {
     "name": "stdout",
     "output_type": "stream",
     "text": [
      "1\n",
      "101\n",
      "HELLO  BONJOUR\n",
      "None\n"
     ]
    }
   ],
   "source": [
    "a = 101\n",
    "b = 22\n",
    "\n",
    "def foo():\n",
    "    b = 1\n",
    "    # E englobant puis il remonte\n",
    "    def baz():\n",
    "        # Python b regarde localement L\n",
    "        print(b)\n",
    "        \n",
    "        # Pour print il cherche localement L => E => G => B\n",
    "        print(a)\n",
    "        \n",
    "        def bar():\n",
    "            # La redéfinition de print est localement scopé pas de conséquence sur les print à l'extérieur\n",
    "            def print(message):\n",
    "                return message.upper()\n",
    "            \n",
    "            # l'appel de la fonction print est définie Localement\n",
    "            return print(\"Hello\")\n",
    "            \n",
    "        # Ici on appelle une fonction print qui est définie dans le Builting \n",
    "        m = bar() + \" BONJOUR\"\n",
    "        \n",
    "        print(m)\n",
    "\n",
    "    baz()\n",
    "\n",
    "print( foo() )"
   ]
  },
  {
   "cell_type": "markdown",
   "metadata": {},
   "source": [
    "Exercice affichez le message de la fonction print redéfinie dans la fonction bar"
   ]
  },
  {
   "cell_type": "code",
   "execution_count": 20,
   "metadata": {},
   "outputs": [
    {
     "name": "stdout",
     "output_type": "stream",
     "text": [
      "1\n"
     ]
    }
   ],
   "source": [
    "def show():\n",
    "    \n",
    "    e = 1\n",
    "    # e est définie Localement\n",
    "    print(e)\n",
    "    \n",
    "show()\n",
    "# print(e) NON Definie dans G"
   ]
  },
  {
   "cell_type": "code",
   "execution_count": 31,
   "metadata": {},
   "outputs": [],
   "source": [
    "l = [1,2,3,4,5, 6, 7, 8, 9, 10, 11]"
   ]
  },
  {
   "cell_type": "code",
   "execution_count": 32,
   "metadata": {},
   "outputs": [
    {
     "name": "stdout",
     "output_type": "stream",
     "text": [
      "1\n",
      "[2, 3, 4, 5, 6, 7, 8, 9, 10, 11]\n",
      "[2, 3]\n",
      "[1, 3, 5, 7, 9, 11]\n"
     ]
    }
   ],
   "source": [
    "print( l[0] )\n",
    "\n",
    "# On part de 1 jusqu'à la fin\n",
    "print(l[1:])\n",
    "\n",
    "# On part de 1 jusqu'à l'indice < 3\n",
    "print(l[1:3])\n",
    "\n",
    "\n",
    "print(l[0::2])\n",
    "\n",
    "\n",
    "\n"
   ]
  },
  {
   "cell_type": "markdown",
   "metadata": {},
   "source": [
    " En utilisant le slicing affichez les valeurs suivantes de la liste l :\n",
    " \n",
    " ```python\n",
    "l = [1,2,3,4,5, 6, 7, 8, 9, 10, 11]\n",
    " [1, 3, 5, 7]\n",
    "```"
   ]
  },
  {
   "cell_type": "code",
   "execution_count": 34,
   "metadata": {},
   "outputs": [
    {
     "name": "stdout",
     "output_type": "stream",
     "text": [
      "[1, 3, 5, 7]\n"
     ]
    }
   ],
   "source": [
    "# On doit ajouter start:end:step le end = 7 \n",
    "print(l[0:7:2])"
   ]
  },
  {
   "cell_type": "code",
   "execution_count": 38,
   "metadata": {},
   "outputs": [
    {
     "data": {
      "text/plain": [
       "10"
      ]
     },
     "execution_count": 38,
     "metadata": {},
     "output_type": "execute_result"
    }
   ],
   "source": [
    "# Affichez le dernier élément\n",
    "l[-1]"
   ]
  },
  {
   "cell_type": "markdown",
   "metadata": {},
   "source": [
    "- Les listes et quelques méthodes sur les listes\n",
    "\n",
    "```python\n",
    "\n",
    "l = []\n",
    "l.append(10) # ajouter 10 à la liste\n",
    "\n",
    "# Ajoute tous les éléments d'un itérables\n",
    "l.extend( x*x for x in range(10))\n",
    "# [0, 1, 4, 9, 16, 25, 36, 49, 64, 81]\n",
    "\n",
    "# insérer un élément à une position donnée, ici indice 2 on insère 100\n",
    "l.insert(2, 100)\n",
    "# [0, 1, 100, 4, 9, 16, 25, 36, 49, 64, 81]\n",
    "\n",
    "# pop retirer un élément à l'indice 2 \n",
    "l.pop(2)\n",
    "# [0, 1, 4, 9, 16, 25, 36, 49, 64, 81]\n",
    "\n",
    "# pop retire le dernier élément de la liste\n",
    "l.pop() \n",
    "# [0, 1, 4, 9, 16, 25, 36, 49, 64]\n",
    "\n",
    "# renvoie l'indice du premier élément trouvé ici 2\n",
    "l.index(4)\n",
    "\n",
    "# compte le nombre d'élément 2 dans une liste\n",
    "l.count(2)\n",
    "\n",
    "# longueur de la liste\n",
    "len(l)\n",
    "\n",
    "# tri une liste par ordre croissant par référence\n",
    "l.sort()\n",
    "\n",
    "# ordre décroissant par référence\n",
    "l.sort(reverse=True)\n",
    "\n",
    "# Supprime tous les éléments d'une liste\n",
    "l.clear()"
   ]
  },
  {
   "cell_type": "markdown",
   "metadata": {},
   "source": [
    "### Exercice\n",
    "\n",
    "En utilisant uniquement pop sur la liste suivante dépilez le premier élément. Vous pouvez soit utiliser le slicing, soit une méthode de votre choix.\n",
    "\n",
    "Faites une fonction shift qui effectue ce qui est demandé.\n",
    "\n",
    "```python\n",
    "L = [0, 1, 4, 9, 16, 25, 36, 49, 64, 81]\n",
    "```\n"
   ]
  },
  {
   "cell_type": "code",
   "execution_count": null,
   "metadata": {},
   "outputs": [],
   "source": []
  }
 ],
 "metadata": {
  "kernelspec": {
   "display_name": "Python 3",
   "language": "python",
   "name": "python3"
  },
  "language_info": {
   "codemirror_mode": {
    "name": "ipython",
    "version": 3
   },
   "file_extension": ".py",
   "mimetype": "text/x-python",
   "name": "python",
   "nbconvert_exporter": "python",
   "pygments_lexer": "ipython3",
   "version": "3.8.3"
  }
 },
 "nbformat": 4,
 "nbformat_minor": 4
}
