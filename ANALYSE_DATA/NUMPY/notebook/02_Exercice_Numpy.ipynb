{
 "cells": [
  {
   "cell_type": "code",
   "execution_count": 2,
   "metadata": {},
   "outputs": [],
   "source": [
    "import numpy as np"
   ]
  },
  {
   "cell_type": "code",
   "execution_count": 19,
   "metadata": {},
   "outputs": [
    {
     "name": "stdout",
     "output_type": "stream",
     "text": [
      "1.18.5\n"
     ]
    }
   ],
   "source": [
    "y1 = np.array([[5, 5, 1, 6, 5],\n",
    "       [7, 7, 8, 9, 6],\n",
    "       [1, 7, 2, 4, 5],\n",
    "       [3, 4, 7, 0, 8],\n",
    "       [1, 8, 2, 0, 2]])\n",
    "\n",
    "\n",
    "yy1 = np.copy(y1)\n",
    "\n",
    "print( np.version.version)"
   ]
  },
  {
   "cell_type": "code",
   "execution_count": 20,
   "metadata": {},
   "outputs": [
    {
     "name": "stdout",
     "output_type": "stream",
     "text": [
      "[[10 10  2 12 10]\n",
      " [ 2 14  4  8 10]\n",
      " [ 2 16  4  0  4]]\n"
     ]
    }
   ],
   "source": [
    "print( 2*yy1[::2, :] )\n",
    "\n",
    "# 2. Multipliez une ligne sur 2\n",
    "# On assigne les lignes modifiées à la matrice qui par référence changera les lignes\n",
    "yy1[::2, :] = 2*yy1[::2, :]"
   ]
  },
  {
   "cell_type": "code",
   "execution_count": 21,
   "metadata": {},
   "outputs": [
    {
     "data": {
      "text/plain": [
       "array([[10, 10,  2, 12, 10],\n",
       "       [ 7,  7,  8,  9,  6],\n",
       "       [ 2, 14,  4,  8, 10],\n",
       "       [ 3,  4,  7,  0,  8],\n",
       "       [ 2, 16,  4,  0,  4]])"
      ]
     },
     "execution_count": 21,
     "metadata": {},
     "output_type": "execute_result"
    }
   ],
   "source": [
    "yy1"
   ]
  },
  {
   "cell_type": "code",
   "execution_count": 22,
   "metadata": {},
   "outputs": [],
   "source": [
    "# 3. Multipliez une ligne sur trois\n",
    "yy1[::3, :] = 3*yy1[::3, :]"
   ]
  },
  {
   "cell_type": "code",
   "execution_count": 24,
   "metadata": {},
   "outputs": [
    {
     "data": {
      "text/plain": [
       "array([[30, 30,  6, 36, 30],\n",
       "       [ 7,  7,  8,  9,  6],\n",
       "       [ 2, 14,  4,  8, 10],\n",
       "       [ 9, 12, 21,  0, 24],\n",
       "       [ 2, 16,  4,  0,  4]])"
      ]
     },
     "execution_count": 24,
     "metadata": {},
     "output_type": "execute_result"
    }
   ],
   "source": [
    "yy1"
   ]
  },
  {
   "cell_type": "code",
   "execution_count": 29,
   "metadata": {},
   "outputs": [
    {
     "name": "stdout",
     "output_type": "stream",
     "text": [
      "[[ 30  30   6  36 330]\n",
      " [  7   7   8   9 306]\n",
      " [  2  14   4   8 310]\n",
      " [  9  12  21   0 324]\n",
      " [  2  16   4   0 304]]\n"
     ]
    }
   ],
   "source": [
    "# 4. ajoutez 100\n",
    "yy1[:, -1]  = yy1[:, -1] + 100\n",
    "\n",
    "print(yy1)"
   ]
  },
  {
   "cell_type": "code",
   "execution_count": 68,
   "metadata": {},
   "outputs": [],
   "source": [
    "y2 = np.array([[[89, 26, 78, 55, 23],\n",
    "        [32, 92, 86, 55, 27],\n",
    "        [87, 46, 63, 43, 77],\n",
    "        [27, 18, 15, 20, 65],\n",
    "        [52, 75, 82,  9, 38]],\n",
    "\n",
    "       [[78, 20, 86, 16, 31],\n",
    "        [46,  3, 59,  6, 50],\n",
    "        [76, 73, 41, 66, 42],\n",
    "        [70, 80, 62, 58, 41],\n",
    "        [41, 65, 49,  0, 79]],\n",
    "\n",
    "       [[13,  9, 58, 35, 32],\n",
    "        [80, 86, 30, 73, 18],\n",
    "        [52, 73, 74,  8, 40],\n",
    "        [80, 27, 26, 94,  8],\n",
    "        [30, 62,  3, 35, 75]],\n",
    "\n",
    "       [[69, 54, 24, 28, 44],\n",
    "        [29, 85, 56,  7, 69],\n",
    "        [13,  1, 62, 10, 66],\n",
    "        [ 6,  5, 31, 78, 92],\n",
    "        [11, 41, 38,  4, 67]],\n",
    "\n",
    "       [[30, 91, 12, 10, 91],\n",
    "        [65, 95, 36, 54, 35],\n",
    "        [49, 96, 21,  5, 87],\n",
    "        [68, 82, 90, 36, 56],\n",
    "        [41, 18, 75, 39, 99]]])\n",
    "\n",
    "\n",
    "yy2 = np.copy(y2)"
   ]
  },
  {
   "cell_type": "code",
   "execution_count": 69,
   "metadata": {},
   "outputs": [],
   "source": [
    "# 4. Pour chaque \"numéro\" de matrice paire et chaque ligne paire multipliez par 2 les valeurs\n",
    "yy2[::2, ::2] = 2*yy2[::2, ::2] "
   ]
  },
  {
   "cell_type": "code",
   "execution_count": 70,
   "metadata": {},
   "outputs": [
    {
     "name": "stdout",
     "output_type": "stream",
     "text": [
      "542\n"
     ]
    }
   ],
   "source": [
    "yy2\n",
    "\n",
    "print(178+  52+ 156+110+  46)"
   ]
  },
  {
   "cell_type": "code",
   "execution_count": 71,
   "metadata": {},
   "outputs": [],
   "source": [
    "# 5. Pour chaque matrice dont la somme des valeurs de la ligne est impaire, \n",
    "# ajoutez 100 à toutes les valeurs de cette ligne."
   ]
  },
  {
   "cell_type": "code",
   "execution_count": 72,
   "metadata": {},
   "outputs": [
    {
     "data": {
      "text/plain": [
       "array([False, False,  True,  True, False])"
      ]
     },
     "execution_count": 72,
     "metadata": {},
     "output_type": "execute_result"
    }
   ],
   "source": [
    "mask = y2.sum(0).sum(1)  % 2 == 1\n",
    "\n",
    "mask"
   ]
  },
  {
   "cell_type": "code",
   "execution_count": 82,
   "metadata": {},
   "outputs": [
    {
     "name": "stdout",
     "output_type": "stream",
     "text": [
      "[[542 292 632 145 512]\n",
      " [231 164 298 311 234]\n",
      " [294 287 494 235 410]\n",
      " [219 246 152 212 161]\n",
      " [468 285 516 332 544]]\n",
      "[2123 1238 1720  990 2145]\n",
      "2123\n"
     ]
    }
   ],
   "source": [
    "\n",
    "# sum(2) somme des lignes de chaque matrice en dimension 3D\n",
    "print( yy2.sum(2))\n",
    "\n",
    "print(yy2.sum(2).sum(1))\n",
    "print(542 + 292 + 632 + 145 + 512)"
   ]
  },
  {
   "cell_type": "code",
   "execution_count": 90,
   "metadata": {},
   "outputs": [
    {
     "name": "stdout",
     "output_type": "stream",
     "text": [
      "[[542 292 632 145 512]\n",
      " [231 164 298 311 234]\n",
      " [294 287 494 235 410]\n",
      " [219 246 152 212 161]\n",
      " [468 285 516 332 544]]\n",
      "[542 292 632 145 512]\n"
     ]
    }
   ],
   "source": [
    "print( yy2.sum(2) )\n",
    "\n",
    "print(yy2[0].sum(1))"
   ]
  },
  {
   "cell_type": "code",
   "execution_count": 109,
   "metadata": {},
   "outputs": [
    {
     "name": "stdout",
     "output_type": "stream",
     "text": [
      "[ True False False False  True]\n"
     ]
    }
   ],
   "source": [
    "mask = yy2.sum(2).sum(1) % 2 == 1\n",
    "print(mask)"
   ]
  },
  {
   "cell_type": "code",
   "execution_count": 98,
   "metadata": {},
   "outputs": [
    {
     "data": {
      "text/plain": [
       "array([[[178,  52, 156, 110,  46],\n",
       "        [ 32,  92,  86,  55,  27],\n",
       "        [174,  92, 126,  86, 154],\n",
       "        [ 27,  18,  15,  20,  65],\n",
       "        [104, 150, 164,  18,  76]],\n",
       "\n",
       "       [[ 60, 182,  24,  20, 182],\n",
       "        [ 65,  95,  36,  54,  35],\n",
       "        [ 98, 192,  42,  10, 174],\n",
       "        [ 68,  82,  90,  36,  56],\n",
       "        [ 82,  36, 150,  78, 198]]])"
      ]
     },
     "execution_count": 98,
     "metadata": {},
     "output_type": "execute_result"
    }
   ],
   "source": [
    "yy2[mask]"
   ]
  },
  {
   "cell_type": "code",
   "execution_count": 110,
   "metadata": {},
   "outputs": [],
   "source": [
    "yy3 = np.random.randint(100, 500, size=(10, 10))"
   ]
  },
  {
   "cell_type": "code",
   "execution_count": 111,
   "metadata": {},
   "outputs": [
    {
     "data": {
      "text/plain": [
       "array([[482, 354, 275, 368, 471, 485, 143, 474, 317, 164],\n",
       "       [195, 213, 277, 350, 133, 291, 233, 219, 483, 393],\n",
       "       [251, 216, 100, 497, 315, 405, 275, 347, 143, 407],\n",
       "       [121, 199, 228, 116, 135, 265, 232, 332, 267, 153],\n",
       "       [250, 101, 469, 461, 461, 474, 277, 107, 245, 215],\n",
       "       [142, 291, 297, 420, 304, 196, 146, 414, 156, 236],\n",
       "       [188, 100, 237, 458, 488, 153, 414, 282, 211, 185],\n",
       "       [306, 443, 349, 483, 480, 354, 253, 354, 362, 456],\n",
       "       [311, 122, 310, 231, 152, 136, 379, 394, 499, 102],\n",
       "       [276, 375, 335, 293, 309, 172, 343, 271, 132, 266]])"
      ]
     },
     "execution_count": 111,
     "metadata": {},
     "output_type": "execute_result"
    }
   ],
   "source": [
    "yy3"
   ]
  },
  {
   "cell_type": "markdown",
   "metadata": {},
   "source": [
    "1 Créez un mask qui permet d'extraire les lignes dont la somme des valeurs est paire."
   ]
  },
  {
   "cell_type": "code",
   "execution_count": 114,
   "metadata": {},
   "outputs": [
    {
     "name": "stdout",
     "output_type": "stream",
     "text": [
      "[False False  True  True  True  True  True  True  True  True]\n"
     ]
    }
   ],
   "source": [
    "mask = yy3.sum(1) % 2 == 0\n",
    "\n",
    "print(mask)"
   ]
  },
  {
   "cell_type": "code",
   "execution_count": 115,
   "metadata": {},
   "outputs": [
    {
     "data": {
      "text/plain": [
       "array([[251, 216, 100, 497, 315, 405, 275, 347, 143, 407],\n",
       "       [121, 199, 228, 116, 135, 265, 232, 332, 267, 153],\n",
       "       [250, 101, 469, 461, 461, 474, 277, 107, 245, 215],\n",
       "       [142, 291, 297, 420, 304, 196, 146, 414, 156, 236],\n",
       "       [188, 100, 237, 458, 488, 153, 414, 282, 211, 185],\n",
       "       [306, 443, 349, 483, 480, 354, 253, 354, 362, 456],\n",
       "       [311, 122, 310, 231, 152, 136, 379, 394, 499, 102],\n",
       "       [276, 375, 335, 293, 309, 172, 343, 271, 132, 266]])"
      ]
     },
     "execution_count": 115,
     "metadata": {},
     "output_type": "execute_result"
    }
   ],
   "source": [
    "yy3[mask]"
   ]
  }
 ],
 "metadata": {
  "kernelspec": {
   "display_name": "Python 3",
   "language": "python",
   "name": "python3"
  },
  "language_info": {
   "codemirror_mode": {
    "name": "ipython",
    "version": 3
   },
   "file_extension": ".py",
   "mimetype": "text/x-python",
   "name": "python",
   "nbconvert_exporter": "python",
   "pygments_lexer": "ipython3",
   "version": "3.8.3"
  }
 },
 "nbformat": 4,
 "nbformat_minor": 4
}
